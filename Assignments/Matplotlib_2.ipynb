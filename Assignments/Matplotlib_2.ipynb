{
 "cells": [
  {
   "cell_type": "markdown",
   "id": "a340f481",
   "metadata": {},
   "source": [
    "### 5. What do you mean by multiple boxplots? Take a data set in a data frame and draw the multiple boxplots. Make a csv file with multiple parameters and then plot multiple box plots for each parameter."
   ]
  },
  {
   "cell_type": "markdown",
   "id": "fc71f9c3",
   "metadata": {},
   "source": [
    "Multiple Boxplots: These are plotting boxplots for each of the parameters side by side. It helps in comparing all the parameters of a given dataset at once and see for which parameter we get maximum variation."
   ]
  },
  {
   "cell_type": "code",
   "execution_count": 2,
   "id": "0d0ed464",
   "metadata": {},
   "outputs": [
    {
     "data": {
      "image/png": "[encoded data removed]",
      "text/plain": [
       "<Figure size 432x288 with 1 Axes>"
      ]
     },
     "metadata": {
      "needs_background": "light"
     },
     "output_type": "display_data"
    }
   ],
   "source": [
    "import pandas as pd\n",
    "import matplotlib.pyplot as plt\n",
    "\n",
    "df = pd.read_csv(r'C:\\Users\\Nirmalya Majhi\\Desktop\\Advanced IT Workshop\\dirtydata.csv')\n",
    "df.boxplot(column=['Duration', 'Pulse', 'Maxpulse', 'Calories'])\n",
    "plt.show()"
   ]
  },
  {
   "cell_type": "code",
   "execution_count": null,
   "id": "10b36e6c",
   "metadata": {},
   "outputs": [],
   "source": []
  }
 ],
 "metadata": {
  "kernelspec": {
   "display_name": "Python 3 (ipykernel)",
   "language": "python",
   "name": "python3"
  },
  "language_info": {
   "codemirror_mode": {
    "name": "ipython",
    "version": 3
   },
   "file_extension": ".py",
   "mimetype": "text/x-python",
   "name": "python",
   "nbconvert_exporter": "python",
   "pygments_lexer": "ipython3",
   "version": "3.9.5"
  }
 },
 "nbformat": 4,
 "nbformat_minor": 5
}
