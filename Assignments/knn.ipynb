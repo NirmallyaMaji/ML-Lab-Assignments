{
 "cells": [
  {
   "cell_type": "markdown",
   "id": "f018b250",
   "metadata": {},
   "source": [
    "## 3. Use sklearn. datasets import load_iris use k-neighbour classifier to classify the three flowers to setosa, vesicolor and Virginica."
   ]
  },
  {
   "cell_type": "markdown",
   "id": "b95d2a08",
   "metadata": {},
   "source": [
    "#### import basic libraries"
   ]
  },
  {
   "cell_type": "code",
   "execution_count": 1,
   "id": "b1580333",
   "metadata": {},
   "outputs": [],
   "source": [
    "import numpy as np\n",
    "import pandas as pd\n",
    "import matplotlib.pyplot as plt"
   ]
  },
  {
   "cell_type": "markdown",
   "id": "a72338cc",
   "metadata": {},
   "source": [
    "#### import the dataset and take independent and dependent variables separately"
   ]
  },
  {
   "cell_type": "code",
   "execution_count": 2,
   "id": "2b5fc052",
   "metadata": {},
   "outputs": [],
   "source": [
    "from sklearn.datasets import load_iris\n",
    "iris = load_iris()\n",
    "\n",
    "X = iris.data[:,:4]     #independent variables\n",
    "Y = iris.target          #dependent variable"
   ]
  },
  {
   "cell_type": "markdown",
   "id": "62ffea6b",
   "metadata": {},
   "source": [
    "#### split the dataset into train set and test set"
   ]
  },
  {
   "cell_type": "code",
   "execution_count": 3,
   "id": "1af6dc37",
   "metadata": {},
   "outputs": [],
   "source": [
    "from sklearn.model_selection import train_test_split\n",
    "X_train, X_test, Y_train, Y_test = train_test_split(X, Y, test_size=0.25, random_state=0)"
   ]
  },
  {
   "cell_type": "markdown",
   "id": "64c6d2a0",
   "metadata": {},
   "source": [
    "#### scale the features"
   ]
  },
  {
   "cell_type": "code",
   "execution_count": 4,
   "id": "eb3cc7a9",
   "metadata": {},
   "outputs": [],
   "source": [
    "from sklearn.preprocessing import StandardScaler\n",
    "scaler = StandardScaler()\n",
    "X_train = scaler.fit_transform(X_train)\n",
    "X_test = scaler.fit_transform(X_test)\n",
    "#scaler.fit(X_train)\n",
    "#X_train = scaler.transform(X_train)\n",
    "#X_test = scaler.transform(X_test)"
   ]
  },
  {
   "cell_type": "markdown",
   "id": "049ded40",
   "metadata": {},
   "source": [
    "#### train the model and fit the training set and compare with test set"
   ]
  },
  {
   "cell_type": "code",
   "execution_count": 5,
   "id": "3d1ecfb4",
   "metadata": {},
   "outputs": [
    {
     "name": "stdout",
     "output_type": "stream",
     "text": [
      "for neighbor =  1 accuracy :  0.8157894736842105\n",
      "for neighbor =  2 accuracy :  0.8947368421052632\n",
      "for neighbor =  3 accuracy :  0.8947368421052632\n",
      "for neighbor =  4 accuracy :  0.9473684210526315\n",
      "for neighbor =  5 accuracy :  0.9473684210526315\n",
      "for neighbor =  6 accuracy :  0.9473684210526315\n",
      "for neighbor =  7 accuracy :  0.9473684210526315\n",
      "for neighbor =  8 accuracy :  0.9473684210526315\n",
      "for neighbor =  9 accuracy :  0.9210526315789473\n",
      "for neighbor =  10 accuracy :  0.9736842105263158\n",
      "for neighbor =  11 accuracy :  0.8947368421052632\n",
      "for neighbor =  12 accuracy :  0.9473684210526315\n",
      "for neighbor =  13 accuracy :  0.8421052631578947\n",
      "for neighbor =  14 accuracy :  0.8421052631578947\n"
     ]
    },
    {
     "data": {
      "image/png": "[encoded data removed]",
      "text/plain": [
       "<Figure size 432x288 with 1 Axes>"
      ]
     },
     "metadata": {
      "needs_background": "light"
     },
     "output_type": "display_data"
    }
   ],
   "source": [
    "from sklearn.neighbors import KNeighborsClassifier\n",
    "from sklearn import metrics\n",
    "\n",
    "range_k = range(1,15)          #for checking no. of neighbors(k) from 1 to 14\n",
    "scores_list = []               #take an empty list for storing the accuracy for each classifer of k=1 to 14\n",
    "\n",
    "for k in range_k:\n",
    "    classifier = KNeighborsClassifier(n_neighbors=k)              #parameter : n_neighbors = no of neighbors\n",
    "    classifier.fit(X_train,Y_train)                               #fit the training set\n",
    "    Y_pred = classifier.predict(X_test)                           #predict the values for test set\n",
    "    scores_list.append(metrics.accuracy_score(Y_test,Y_pred))     #append the accuracy value in the list\n",
    "    print(\"for neighbor = \",k,\"accuracy : \",metrics.accuracy_score(Y_test,Y_pred))\n",
    "    \n",
    "#plot the k value vs accuracy\n",
    "plt.plot(range_k,scores_list)\n",
    "plt.xlabel(\"Value of k\")\n",
    "plt.ylabel(\"Accuracy\")\n",
    "plt.show()"
   ]
  },
  {
   "cell_type": "markdown",
   "id": "87111168",
   "metadata": {},
   "source": [
    "As for neighbor = 10 , the accuracy is maximum so we make our final model with no. of neighbors = 10"
   ]
  },
  {
   "cell_type": "markdown",
   "id": "e3b25712",
   "metadata": {},
   "source": [
    "#### final model"
   ]
  },
  {
   "cell_type": "code",
   "execution_count": 6,
   "id": "b1c88b2e",
   "metadata": {},
   "outputs": [],
   "source": [
    "classifier = KNeighborsClassifier(n_neighbors=10)\n",
    "classifier.fit(X_train,Y_train)\n",
    "Y_pred = classifier.predict(X_test)\n",
    "classes = {0:'setosa', 1:'versicolor', 2:'virginicia'}"
   ]
  },
  {
   "cell_type": "markdown",
   "id": "1d8eb45f",
   "metadata": {},
   "source": [
    "#### find classification report and confusion matrix"
   ]
  },
  {
   "cell_type": "code",
   "execution_count": 7,
   "id": "274db468",
   "metadata": {},
   "outputs": [
    {
     "name": "stdout",
     "output_type": "stream",
     "text": [
      "Confusion Matrix:\n",
      " [[13  0  0]\n",
      " [ 0 15  1]\n",
      " [ 0  0  9]]\n",
      "Classification Report:\n",
      "               precision    recall  f1-score   support\n",
      "\n",
      "           0       1.00      1.00      1.00        13\n",
      "           1       1.00      0.94      0.97        16\n",
      "           2       0.90      1.00      0.95         9\n",
      "\n",
      "    accuracy                           0.97        38\n",
      "   macro avg       0.97      0.98      0.97        38\n",
      "weighted avg       0.98      0.97      0.97        38\n",
      "\n"
     ]
    }
   ],
   "source": [
    "result = metrics.confusion_matrix(Y_test,Y_pred)\n",
    "print(\"Confusion Matrix:\\n\",result)\n",
    "result1 = metrics.classification_report(Y_test,Y_pred)\n",
    "print(\"Classification Report:\\n\",result1)"
   ]
  },
  {
   "cell_type": "markdown",
   "id": "17bf1221",
   "metadata": {},
   "source": [
    "#### predict the result"
   ]
  },
  {
   "cell_type": "code",
   "execution_count": 8,
   "id": "39eecdb5",
   "metadata": {},
   "outputs": [
    {
     "name": "stdout",
     "output_type": "stream",
     "text": [
      "virginicia\n",
      "virginicia\n"
     ]
    }
   ],
   "source": [
    "x_new = [[1,1,1,1],[4,3,1.3,0.2]]         #predict the results for two randomly taken values\n",
    "y_predict = classifier.predict(x_new)\n",
    "print(classes[y_predict[0]])\n",
    "print(classes[y_predict[1]])"
   ]
  },
  {
   "cell_type": "code",
   "execution_count": null,
   "id": "bf240f21",
   "metadata": {},
   "outputs": [],
   "source": []
  }
 ],
 "metadata": {
  "kernelspec": {
   "display_name": "Python 3 (ipykernel)",
   "language": "python",
   "name": "python3"
  },
  "language_info": {
   "codemirror_mode": {
    "name": "ipython",
    "version": 3
   },
   "file_extension": ".py",
   "mimetype": "text/x-python",
   "name": "python",
   "nbconvert_exporter": "python",
   "pygments_lexer": "ipython3",
   "version": "3.9.5"
  }
 },
 "nbformat": 4,
 "nbformat_minor": 5
}
