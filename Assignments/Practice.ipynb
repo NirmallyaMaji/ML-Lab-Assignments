{
 "cells": [
  {
   "cell_type": "code",
   "execution_count": 3,
   "id": "3f4a6ac3",
   "metadata": {},
   "outputs": [
    {
     "name": "stdout",
     "output_type": "stream",
     "text": [
      "a = \n",
      " [[5 4 4]\n",
      " [9 8 8]\n",
      " [2 7 5]]\n",
      "b = \n",
      " [[1 2 3]\n",
      " [4 5 6]\n",
      " [7 8 9]]\n",
      "c = a + b = \n",
      " [[ 6  6  7]\n",
      " [13 13 14]\n",
      " [ 9 15 14]]\n"
     ]
    }
   ],
   "source": [
    "import numpy as np\n",
    "a = np.random.randint(1,10,(3,3))\n",
    "b_list = [[1,2,3],[4,5,6],[7,8,9]]\n",
    "b = np.array(b_list)\n",
    "print(\"a = \\n\",a)\n",
    "print(\"b = \\n\",b)\n",
    "print(\"c = a + b = \\n\",(a+b))"
   ]
  },
  {
   "cell_type": "markdown",
   "id": "77264791",
   "metadata": {},
   "source": [
    "## 4. From sklearn.datasets import make regression and fit the data and perform the linear regression. Use scatter plot."
   ]
  },
  {
   "cell_type": "markdown",
   "id": "b33a55b3",
   "metadata": {},
   "source": [
    "#### import basic libraries"
   ]
  },
  {
   "cell_type": "code",
   "execution_count": 1,
   "id": "cc3d5b7f",
   "metadata": {},
   "outputs": [],
   "source": [
    "import numpy as np\n",
    "import pandas as pd\n",
    "import matplotlib.pyplot as plt"
   ]
  },
  {
   "cell_type": "markdown",
   "id": "37304a96",
   "metadata": {},
   "source": [
    "#### import the dataset and take independent & dependent variables separately"
   ]
  },
  {
   "cell_type": "code",
   "execution_count": 3,
   "id": "f92af96b",
   "metadata": {},
   "outputs": [],
   "source": [
    "from sklearn.datasets import make_regression\n",
    "X , Y = make_regression(n_samples=150, n_features=1, noise=1.0)"
   ]
  },
  {
   "cell_type": "code",
   "execution_count": 7,
   "id": "07158fe3",
   "metadata": {},
   "outputs": [
    {
     "data": {
      "text/plain": [
       "array([ -79.78477384, -106.40143352,  -58.7138791 ,  193.98956146,\n",
       "         -0.25080424,   18.30627568,  -53.75386123,   30.66238197,\n",
       "         -3.66351441,   -4.12563505,    4.7567477 ,   85.82502607,\n",
       "         89.1438698 ,  -85.95237525,  -34.95087385,  -40.0018747 ,\n",
       "        138.22358766,   69.19120055,  -16.23844354,  108.49929534,\n",
       "        -22.13250632, -173.72031005, -107.58106209,  -48.8117856 ,\n",
       "        -89.50597284,  -66.59862108,  -25.61643672,   91.69921066,\n",
       "       -137.80471703, -163.64898988, -152.33272365,   -3.05380963,\n",
       "        -88.85817699,  -17.82350767,  123.44751563,  -68.7481737 ,\n",
       "        -41.63875777,  -35.43077011,   -4.52446589,  -24.87244762,\n",
       "         -0.75519656,   77.32890226,  148.87139469,  -48.63723208,\n",
       "        126.99225623,   15.84260075,  -58.75429593,    4.83987761,\n",
       "         85.36094248,  173.02755144, -125.2500407 ,   21.47841013,\n",
       "         -6.41176406,   90.96833392,   -2.26549843,  -13.30292601,\n",
       "         11.03912491,  -39.68261831,   87.96359568,  -41.89937412,\n",
       "          2.26518359,   36.84192498,  -83.96517763,   56.11186688,\n",
       "         88.83588601,   60.16629341,   14.1803275 ,   38.63189234,\n",
       "         46.17296899,  167.69803104,   27.38628066,  -24.10605244,\n",
       "        -48.62553098,  -11.87192513,  227.23144384,  126.77096872,\n",
       "          5.90545938, -110.34935395,    8.3398025 , -183.85011867,\n",
       "         43.32727599,   -3.74643121,  -68.48416162, -131.81396977,\n",
       "         42.69906859,  -70.09560418,  -87.36356481,   24.06725252,\n",
       "        -88.55762489,   42.11938086,   -4.57754937, -121.73406097,\n",
       "        147.29275441,  112.65903369,  238.33822607,   44.54025959,\n",
       "        -94.90763515, -108.87096718, -101.11754487,   95.71310106,\n",
       "        -65.98574498,  -40.17114522,   -5.59260146, -162.23452199,\n",
       "        -83.52885172,   76.36658781,   19.0280821 ,   95.18293525,\n",
       "         34.33851205,   -7.59492097,   62.73079334,   17.24067884,\n",
       "         27.61865762,   27.5300775 ,   69.29529256,  -93.88123024,\n",
       "        -69.71974746,   35.55878085,   53.17657464,  -50.38479573,\n",
       "         16.60296427,  -32.5276335 ,   51.1060182 ,   -2.6813367 ,\n",
       "         40.73851322, -114.88273522,   -5.40735353,  -70.4634191 ,\n",
       "         -3.25007838,  226.28256299,    1.64432386,   56.99010204,\n",
       "         22.94152509,   33.37432292,    0.38979571,   51.84623233,\n",
       "        -29.45016504,   22.16085441,  -72.72696146,  -54.76562941,\n",
       "         90.38188607,  -33.92692524,   92.14700885,  -56.74288097,\n",
       "          3.95923916,   67.21829624, -189.16704874,   23.00336494,\n",
       "         26.4141669 , -113.04476493])"
      ]
     },
     "execution_count": 7,
     "metadata": {},
     "output_type": "execute_result"
    }
   ],
   "source": [
    "Y"
   ]
  },
  {
   "cell_type": "markdown",
   "id": "dae9fa4c",
   "metadata": {},
   "source": [
    "#### split the dataset into train set and test set"
   ]
  },
  {
   "cell_type": "code",
   "execution_count": 9,
   "id": "df4f52c6",
   "metadata": {},
   "outputs": [],
   "source": [
    "from sklearn.model_selection import train_test_split\n",
    "X_train, X_test, Y_train, Y_test = train_test_split(X,Y,test_size=0.25, random_state=0)"
   ]
  },
  {
   "cell_type": "markdown",
   "id": "71e7c530",
   "metadata": {},
   "source": [
    "####  scale the features"
   ]
  },
  {
   "cell_type": "code",
   "execution_count": 10,
   "id": "8a0b2415",
   "metadata": {},
   "outputs": [],
   "source": [
    "#not required for this question"
   ]
  },
  {
   "cell_type": "markdown",
   "id": "091f9240",
   "metadata": {},
   "source": [
    "#### train the model and fit the train set"
   ]
  },
  {
   "cell_type": "code",
   "execution_count": 11,
   "id": "e5742b1a",
   "metadata": {},
   "outputs": [
    {
     "data": {
      "text/html": [
       "<style>#sk-container-id-1 {color: black;background-color: white;}#sk-container-id-1 pre{padding: 0;}#sk-container-id-1 div.sk-toggleable {background-color: white;}#sk-container-id-1 label.sk-toggleable__label {cursor: pointer;display: block;width: 100%;margin-bottom: 0;padding: 0.3em;box-sizing: border-box;text-align: center;}#sk-container-id-1 label.sk-toggleable__label-arrow:before {content: \"▸\";float: left;margin-right: 0.25em;color: #696969;}#sk-container-id-1 label.sk-toggleable__label-arrow:hover:before {color: black;}#sk-container-id-1 div.sk-estimator:hover label.sk-toggleable__label-arrow:before {color: black;}#sk-container-id-1 div.sk-toggleable__content {max-height: 0;max-width: 0;overflow: hidden;text-align: left;background-color: #f0f8ff;}#sk-container-id-1 div.sk-toggleable__content pre {margin: 0.2em;color: black;border-radius: 0.25em;background-color: #f0f8ff;}#sk-container-id-1 input.sk-toggleable__control:checked~div.sk-toggleable__content {max-height: 200px;max-width: 100%;overflow: auto;}#sk-container-id-1 input.sk-toggleable__control:checked~label.sk-toggleable__label-arrow:before {content: \"▾\";}#sk-container-id-1 div.sk-estimator input.sk-toggleable__control:checked~label.sk-toggleable__label {background-color: #d4ebff;}#sk-container-id-1 div.sk-label input.sk-toggleable__control:checked~label.sk-toggleable__label {background-color: #d4ebff;}#sk-container-id-1 input.sk-hidden--visually {border: 0;clip: rect(1px 1px 1px 1px);clip: rect(1px, 1px, 1px, 1px);height: 1px;margin: -1px;overflow: hidden;padding: 0;position: absolute;width: 1px;}#sk-container-id-1 div.sk-estimator {font-family: monospace;background-color: #f0f8ff;border: 1px dotted black;border-radius: 0.25em;box-sizing: border-box;margin-bottom: 0.5em;}#sk-container-id-1 div.sk-estimator:hover {background-color: #d4ebff;}#sk-container-id-1 div.sk-parallel-item::after {content: \"\";width: 100%;border-bottom: 1px solid gray;flex-grow: 1;}#sk-container-id-1 div.sk-label:hover label.sk-toggleable__label {background-color: #d4ebff;}#sk-container-id-1 div.sk-serial::before {content: \"\";position: absolute;border-left: 1px solid gray;box-sizing: border-box;top: 0;bottom: 0;left: 50%;z-index: 0;}#sk-container-id-1 div.sk-serial {display: flex;flex-direction: column;align-items: center;background-color: white;padding-right: 0.2em;padding-left: 0.2em;position: relative;}#sk-container-id-1 div.sk-item {position: relative;z-index: 1;}#sk-container-id-1 div.sk-parallel {display: flex;align-items: stretch;justify-content: center;background-color: white;position: relative;}#sk-container-id-1 div.sk-item::before, #sk-container-id-1 div.sk-parallel-item::before {content: \"\";position: absolute;border-left: 1px solid gray;box-sizing: border-box;top: 0;bottom: 0;left: 50%;z-index: -1;}#sk-container-id-1 div.sk-parallel-item {display: flex;flex-direction: column;z-index: 1;position: relative;background-color: white;}#sk-container-id-1 div.sk-parallel-item:first-child::after {align-self: flex-end;width: 50%;}#sk-container-id-1 div.sk-parallel-item:last-child::after {align-self: flex-start;width: 50%;}#sk-container-id-1 div.sk-parallel-item:only-child::after {width: 0;}#sk-container-id-1 div.sk-dashed-wrapped {border: 1px dashed gray;margin: 0 0.4em 0.5em 0.4em;box-sizing: border-box;padding-bottom: 0.4em;background-color: white;}#sk-container-id-1 div.sk-label label {font-family: monospace;font-weight: bold;display: inline-block;line-height: 1.2em;}#sk-container-id-1 div.sk-label-container {text-align: center;}#sk-container-id-1 div.sk-container {/* jupyter's `normalize.less` sets `[hidden] { display: none; }` but bootstrap.min.css set `[hidden] { display: none !important; }` so we also need the `!important` here to be able to override the default hidden behavior on the sphinx rendered scikit-learn.org. See: https://github.com/scikit-learn/scikit-learn/issues/21755 */display: inline-block !important;position: relative;}#sk-container-id-1 div.sk-text-repr-fallback {display: none;}</style><div id=\"sk-container-id-1\" class=\"sk-top-container\"><div class=\"sk-text-repr-fallback\"><pre>LinearRegression()</pre><b>In a Jupyter environment, please rerun this cell to show the HTML representation or trust the notebook. <br />On GitHub, the HTML representation is unable to render, please try loading this page with nbviewer.org.</b></div><div class=\"sk-container\" hidden><div class=\"sk-item\"><div class=\"sk-estimator sk-toggleable\"><input class=\"sk-toggleable__control sk-hidden--visually\" id=\"sk-estimator-id-1\" type=\"checkbox\" checked><label for=\"sk-estimator-id-1\" class=\"sk-toggleable__label sk-toggleable__label-arrow\">LinearRegression</label><div class=\"sk-toggleable__content\"><pre>LinearRegression()</pre></div></div></div></div></div>"
      ],
      "text/plain": [
       "LinearRegression()"
      ]
     },
     "execution_count": 11,
     "metadata": {},
     "output_type": "execute_result"
    }
   ],
   "source": [
    "from sklearn.linear_model import LinearRegression\n",
    "model = LinearRegression()\n",
    "model.fit(X_train,Y_train)"
   ]
  },
  {
   "cell_type": "markdown",
   "id": "3104faa3",
   "metadata": {},
   "source": [
    "#### predict the result and compare with test set"
   ]
  },
  {
   "cell_type": "code",
   "execution_count": 13,
   "id": "90ed1d87",
   "metadata": {},
   "outputs": [
    {
     "data": {
      "image/png": "[encoded data removed]",
      "text/plain": [
       "<Figure size 432x288 with 1 Axes>"
      ]
     },
     "metadata": {
      "needs_background": "light"
     },
     "output_type": "display_data"
    }
   ],
   "source": [
    "Y_pred = model.predict(X_test)\n",
    "\n",
    "plt.scatter(X_test,Y_test)\n",
    "plt.scatter(X_test,Y_pred)\n",
    "plt.title(\"Actual value vs predicted value\")\n",
    "plt.show()"
   ]
  },
  {
   "cell_type": "markdown",
   "id": "cd8fd6e9",
   "metadata": {},
   "source": [
    "#### find accuracy/ success rate"
   ]
  },
  {
   "cell_type": "code",
   "execution_count": 17,
   "id": "c32eab6b",
   "metadata": {},
   "outputs": [],
   "source": [
    "#not required for this question"
   ]
  },
  {
   "cell_type": "markdown",
   "id": "84bca5b0",
   "metadata": {},
   "source": [
    "### find r^2 and equation slope and intercept of random array"
   ]
  },
  {
   "cell_type": "code",
   "execution_count": 34,
   "id": "91c5ced8",
   "metadata": {},
   "outputs": [
    {
     "name": "stdout",
     "output_type": "stream",
     "text": [
      "[[2]\n",
      " [6]\n",
      " [6]\n",
      " [1]\n",
      " [8]\n",
      " [8]\n",
      " [3]\n",
      " [7]\n",
      " [8]\n",
      " [9]\n",
      " [3]]\n",
      "[5 4 3 6 7 8 9 5 4 3 1]\n",
      "5.211316397228638  +  -0.03810623556581986  * X\n"
     ]
    }
   ],
   "source": [
    "x = np.random.randint(1,10,(1,11)).reshape(-1,1)\n",
    "#y = np.random.randint(1,10,(1,11))\n",
    "\n",
    "\n",
    "#x = np.array([3,2,1,3,4,5,5,3,2,1,1]).reshape(-1, 1)\n",
    "y = np.array([5,4,3,6,7,8,9,5,4,3,1])\n",
    "\n",
    "print(x)\n",
    "print(y)\n",
    "\n",
    "lin_reg = LinearRegression()\n",
    "lin_reg.fit(x,y)\n",
    "\n",
    "r_sqr = lin_reg.score(x,y)\n",
    "inte = lin_reg.intercept_\n",
    "slope = lin_reg.coef_[0]\n",
    "\n",
    "print(inte,\" + \",slope,\" * X\")"
   ]
  },
  {
   "cell_type": "code",
   "execution_count": null,
   "id": "e31d64ea",
   "metadata": {},
   "outputs": [],
   "source": []
  }
 ],
 "metadata": {
  "kernelspec": {
   "display_name": "Python 3 (ipykernel)",
   "language": "python",
   "name": "python3"
  },
  "language_info": {
   "codemirror_mode": {
    "name": "ipython",
    "version": 3
   },
   "file_extension": ".py",
   "mimetype": "text/x-python",
   "name": "python",
   "nbconvert_exporter": "python",
   "pygments_lexer": "ipython3",
   "version": "3.9.5"
  }
 },
 "nbformat": 4,
 "nbformat_minor": 5
}
