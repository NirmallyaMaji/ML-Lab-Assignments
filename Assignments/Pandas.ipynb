{
 "cells": [
  {
   "cell_type": "markdown",
   "id": "f51b8a7d",
   "metadata": {},
   "source": [
    "### 1. Create 3 indexes with name, roll number, fees amount in a vector and print the data frame by taking values in indexes."
   ]
  },
  {
   "cell_type": "code",
   "execution_count": 1,
   "id": "583ef27c",
   "metadata": {},
   "outputs": [
    {
     "name": "stdout",
     "output_type": "stream",
     "text": [
      "  name roll number  fees amount\n",
      "0  ABC         001        20000\n",
      "1  DEF         002        22500\n",
      "2  GHI         003        21000\n"
     ]
    }
   ],
   "source": [
    "import pandas as pd\n",
    "data = {'name' : ['ABC','DEF','GHI'],\n",
    "        'roll number' : ['001','002','003'],\n",
    "        'fees amount' : [20000, 22500, 21000]}\n",
    "df=pd.DataFrame(data)\n",
    "print(df)"
   ]
  },
  {
   "cell_type": "markdown",
   "id": "b2fba55a",
   "metadata": {},
   "source": [
    "### 2. Read mba.csv file and just fetch the name and fees and print it with the help of data frame."
   ]
  },
  {
   "cell_type": "code",
   "execution_count": 5,
   "id": "8b0a81b9",
   "metadata": {},
   "outputs": [
    {
     "name": "stdout",
     "output_type": "stream",
     "text": [
      "   Roll No.     Name    Fees\n",
      "0         1  Anwesha   50000\n",
      "1         2   Ipsita   80000\n",
      "2         3    Soham   70000\n",
      "3         4   Ritesh  100000\n",
      "4         5    White  120000\n",
      "      Name    Fees\n",
      "0  Anwesha   50000\n",
      "1   Ipsita   80000\n",
      "2    Soham   70000\n",
      "3   Ritesh  100000\n",
      "4    White  120000\n"
     ]
    }
   ],
   "source": [
    "import pandas as pd\n",
    "df=pd.read_csv(r'C:\\Users\\Nirmalya Majhi\\Desktop\\Advanced IT Workshop\\mba.csv')\n",
    "print(df)\n",
    "print(df[['Name','Fees']])"
   ]
  },
  {
   "cell_type": "markdown",
   "id": "c267f856",
   "metadata": {},
   "source": [
    "### 3. Fetch your answer for question 2 with the help of Pandas Series."
   ]
  },
  {
   "cell_type": "code",
   "execution_count": 5,
   "id": "8ace73e8",
   "metadata": {},
   "outputs": [
    {
     "name": "stdout",
     "output_type": "stream",
     "text": [
      "Name    {0: 'Anwesha', 1: 'Ipsita', 2: 'Soham', 3: 'Ri...\n",
      "Fees    {0: 50000, 1: 80000, 2: 70000, 3: 100000, 4: 1...\n",
      "dtype: object\n"
     ]
    }
   ],
   "source": [
    "import pandas as pd\n",
    "df=pd.read_csv(r'C:\\Users\\Nirmalya Majhi\\Desktop\\Advanced IT Workshop\\mba.csv')\n",
    "data=df.to_dict()\n",
    "ser = pd.Series(data=data,index=['Name','Fees'])\n",
    "print(ser)"
   ]
  },
  {
   "cell_type": "markdown",
   "id": "b76340e6",
   "metadata": {},
   "source": [
    "### 4. Copy the datas from csv file dirtydata.csv and replace all the null calories value to 120 and also try to change the null date format to a valid date."
   ]
  },
  {
   "cell_type": "code",
   "execution_count": 2,
   "id": "0ba33fc0",
   "metadata": {},
   "outputs": [
    {
     "name": "stdout",
     "output_type": "stream",
     "text": [
      "    Duration       Date  Pulse  Maxpulse  Calories\n",
      "0         60 2020-12-01    110       130     409.1\n",
      "1         60 2020-12-02    117       145     479.0\n",
      "2         60 2020-12-03    103       135     340.0\n",
      "3         45 2020-12-04    109       175     282.4\n",
      "4         45 2020-12-05    117       148     406.0\n",
      "5         60 2020-12-06    102       127     300.0\n",
      "6         60 2020-12-07    110       136     374.0\n",
      "7        450 2020-12-08    104       134     253.3\n",
      "8         30 2020-12-09    109       133     195.1\n",
      "9         60 2020-12-10     98       124     269.0\n",
      "10        60 2020-12-11    103       147     329.3\n",
      "11        60 2020-12-12    100       120     250.7\n",
      "12        60 2020-12-12    100       120     250.7\n",
      "13        60 2020-12-13    106       128     345.3\n",
      "14        60 2020-12-14    104       132     379.3\n",
      "15        60 2020-12-15     98       123     275.0\n",
      "16        60 2020-12-16     98       120     215.2\n",
      "17        60 2020-12-17    100       120     300.0\n",
      "18        45 2020-12-18     90       112     120.0\n",
      "19        60 2020-12-19    103       123     323.0\n",
      "20        45 2020-12-20     97       125     243.0\n",
      "21        60 2020-12-21    108       131     364.2\n",
      "22        45        NaT    100       119     282.0\n",
      "23        60 2020-12-23    130       101     300.0\n",
      "24        45 2020-12-24    105       132     246.0\n",
      "25        60 2020-12-25    102       126     334.5\n",
      "26        60 2020-12-26    100       120     250.0\n",
      "27        60 2020-12-27     92       118     241.0\n",
      "28        60 2020-12-28    103       132     120.0\n",
      "29        60 2020-12-29    100       132     280.0\n",
      "30        60 2020-12-30    102       129     380.3\n",
      "31        60 2020-12-31     92       115     243.0\n"
     ]
    }
   ],
   "source": [
    "import pandas as pd\n",
    "df=pd.read_csv(r'C:\\Users\\Nirmalya Majhi\\Desktop\\Advanced IT Workshop\\dirtydata.csv')\n",
    "df1 = df\n",
    "df1['Calories'] = df['Calories'].fillna(120)\n",
    "df1['Date'] = pd.to_datetime(df1['Date'])\n",
    "print(df1)"
   ]
  },
  {
   "cell_type": "markdown",
   "id": "ce92eeb5",
   "metadata": {},
   "source": [
    "### 5. Take a data frame df2 and replace all Nan rows with the mode value for the column calories.Data set is dirtydata."
   ]
  },
  {
   "cell_type": "code",
   "execution_count": 6,
   "id": "c9776691",
   "metadata": {},
   "outputs": [
    {
     "name": "stdout",
     "output_type": "stream",
     "text": [
      "0    300.0\n",
      "Name: Calories, dtype: float64\n",
      "mode of Calories column=  300.0\n",
      "    Duration         Date  Pulse  Maxpulse  Calories\n",
      "0         60  2020/12/01'    110       130     409.1\n",
      "1         60  2020/12/02'    117       145     479.0\n",
      "2         60  2020/12/03'    103       135     340.0\n",
      "3         45  2020/12/04'    109       175     282.4\n",
      "4         45  2020/12/05'    117       148     406.0\n",
      "5         60  2020/12/06'    102       127     300.0\n",
      "6         60  2020/12/07'    110       136     374.0\n",
      "7        450  2020/12/08'    104       134     253.3\n",
      "8         30  2020/12/09'    109       133     195.1\n",
      "9         60  2020/12/10'     98       124     269.0\n",
      "10        60  2020/12/11'    103       147     329.3\n",
      "11        60  2020/12/12'    100       120     250.7\n",
      "12        60  2020/12/12'    100       120     250.7\n",
      "13        60  2020/12/13'    106       128     345.3\n",
      "14        60  2020/12/14'    104       132     379.3\n",
      "15        60  2020/12/15'     98       123     275.0\n",
      "16        60  2020/12/16'     98       120     215.2\n",
      "17        60  2020/12/17'    100       120     300.0\n",
      "18        45  2020/12/18'     90       112     300.0\n",
      "19        60  2020/12/19'    103       123     323.0\n",
      "20        45  2020/12/20'     97       125     243.0\n",
      "21        60  2020/12/21'    108       131     364.2\n",
      "22        45          NaN    100       119     282.0\n",
      "23        60  2020/12/23'    130       101     300.0\n",
      "24        45  2020/12/24'    105       132     246.0\n",
      "25        60  2020/12/25'    102       126     334.5\n",
      "26        60     20201226    100       120     250.0\n",
      "27        60  2020/12/27'     92       118     241.0\n",
      "28        60  2020/12/28'    103       132     300.0\n",
      "29        60  2020/12/29'    100       132     280.0\n",
      "30        60  2020/12/30'    102       129     380.3\n",
      "31        60  2020/12/31'     92       115     243.0\n"
     ]
    }
   ],
   "source": [
    "import pandas as pd\n",
    "df2=pd.read_csv(r'C:\\Users\\Nirmalya Majhi\\Desktop\\Advanced IT Workshop\\dirtydata.csv')\n",
    "x=df2['Calories'].mode()\n",
    "print(x)\n",
    "print('mode of Calories column= ',x[0])\n",
    "df2['Calories']=df2['Calories'].fillna(x[0])\n",
    "print(df2)"
   ]
  },
  {
   "cell_type": "markdown",
   "id": "29565b02",
   "metadata": {},
   "source": [
    "### 6. Take df2 and for all the index values for the column calories if it is > 250 replace the calorievalue with 250."
   ]
  },
  {
   "cell_type": "code",
   "execution_count": 28,
   "id": "e538c500",
   "metadata": {},
   "outputs": [
    {
     "name": "stdout",
     "output_type": "stream",
     "text": [
      "    Duration         Date  Pulse  Maxpulse  Calories\n",
      "0         60  2020/12/01'    110       130     250.0\n",
      "1         60  2020/12/02'    117       145     250.0\n",
      "2         60  2020/12/03'    103       135     250.0\n",
      "3         45  2020/12/04'    109       175     250.0\n",
      "4         45  2020/12/05'    117       148     250.0\n",
      "5         60  2020/12/06'    102       127     250.0\n",
      "6         60  2020/12/07'    110       136     250.0\n",
      "7        450  2020/12/08'    104       134     250.0\n",
      "8         30  2020/12/09'    109       133     195.1\n",
      "9         60  2020/12/10'     98       124     250.0\n",
      "10        60  2020/12/11'    103       147     250.0\n",
      "11        60  2020/12/12'    100       120     250.0\n",
      "12        60  2020/12/12'    100       120     250.0\n",
      "13        60  2020/12/13'    106       128     250.0\n",
      "14        60  2020/12/14'    104       132     250.0\n",
      "15        60  2020/12/15'     98       123     250.0\n",
      "16        60  2020/12/16'     98       120     215.2\n",
      "17        60  2020/12/17'    100       120     250.0\n",
      "18        45  2020/12/18'     90       112     250.0\n",
      "19        60  2020/12/19'    103       123     250.0\n",
      "20        45  2020/12/20'     97       125     243.0\n",
      "21        60  2020/12/21'    108       131     250.0\n",
      "22        45          NaN    100       119     250.0\n",
      "23        60  2020/12/23'    130       101     250.0\n",
      "24        45  2020/12/24'    105       132     246.0\n",
      "25        60  2020/12/25'    102       126     250.0\n",
      "26        60     20201226    100       120     250.0\n",
      "27        60  2020/12/27'     92       118     241.0\n",
      "28        60  2020/12/28'    103       132     250.0\n",
      "29        60  2020/12/29'    100       132     250.0\n",
      "30        60  2020/12/30'    102       129     250.0\n",
      "31        60  2020/12/31'     92       115     243.0\n"
     ]
    }
   ],
   "source": [
    "import pandas as pd\n",
    "df=df2\n",
    "for x in df.index:\n",
    "    if df.loc[x,'Calories']>250:\n",
    "        df.loc[x,'Calories']=250\n",
    "print(df)"
   ]
  },
  {
   "cell_type": "code",
   "execution_count": null,
   "id": "a48ca3e7",
   "metadata": {},
   "outputs": [],
   "source": []
  }
 ],
 "metadata": {
  "kernelspec": {
   "display_name": "Python 3 (ipykernel)",
   "language": "python",
   "name": "python3"
  },
  "language_info": {
   "codemirror_mode": {
    "name": "ipython",
    "version": 3
   },
   "file_extension": ".py",
   "mimetype": "text/x-python",
   "name": "python",
   "nbconvert_exporter": "python",
   "pygments_lexer": "ipython3",
   "version": "3.9.5"
  }
 },
 "nbformat": 4,
 "nbformat_minor": 5
}
