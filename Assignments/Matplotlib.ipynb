{
 "cells": [
  {
   "cell_type": "markdown",
   "id": "2d3267d2",
   "metadata": {},
   "source": [
    "### 1. Take a data set in a data frame and plot the bar chart example may be year of Production and the Production Quantity. (Take help of Pandas)"
   ]
  },
  {
   "cell_type": "code",
   "execution_count": 1,
   "id": "98c75de7",
   "metadata": {},
   "outputs": [
    {
     "data": {
      "image/png": "[encoded data removed]",
      "text/plain": [
       "<Figure size 432x288 with 1 Axes>"
      ]
     },
     "metadata": {
      "needs_background": "light"
     },
     "output_type": "display_data"
    }
   ],
   "source": [
    "import pandas as pd\n",
    "import matplotlib.pyplot as plt\n",
    "\n",
    "data = {'year of production' : ['2018','2019','2020','2021'],\n",
    "       'production quantity' : [58000, 70000, 93000, 69000]}\n",
    "\n",
    "df = pd.DataFrame(data)\n",
    "x = df['year of production']\n",
    "y = df['production quantity']\n",
    "\n",
    "plt.bar(x,y)\n",
    "plt.xlabel(\"Year of Production\")\n",
    "plt.ylabel(\"Production Quantity\")\n",
    "plt.title(\"Bar Chart\")\n",
    "plt.show()"
   ]
  },
  {
   "cell_type": "markdown",
   "id": "57f22ef6",
   "metadata": {},
   "source": [
    "### 2. Take a data set from the above data frame which you have prepared and plot the pie chart. (Take help of Pandas)"
   ]
  },
  {
   "cell_type": "code",
   "execution_count": 6,
   "id": "03060bfe",
   "metadata": {},
   "outputs": [
    {
     "data": {
      "image/png": "[encoded data removed]",
      "text/plain": [
       "<Figure size 432x288 with 1 Axes>"
      ]
     },
     "metadata": {},
     "output_type": "display_data"
    }
   ],
   "source": [
    "import pandas as pd\n",
    "import matplotlib.pyplot as plt\n",
    "\n",
    "data = {'year of production' : ['2018','2019','2020','2021'],\n",
    "       'production quantity' : [58000, 70000, 93000, 69000]}\n",
    "\n",
    "df = pd.DataFrame(data)\n",
    "x = df['year of production']\n",
    "y = df['production quantity']\n",
    "\n",
    "plt.pie(y,labels = x,autopct=int)\n",
    "plt.title(\"Pie Chart\")\n",
    "plt.show()"
   ]
  },
  {
   "cell_type": "markdown",
   "id": "c6647cfa",
   "metadata": {},
   "source": [
    "### 3. Take a csv file with name, employee id and salary. Read the datas of salary and plot the bar Chart with employee name on the x axis and employee salary on the y-axis. Just take 5 records in the csv files."
   ]
  },
  {
   "cell_type": "code",
   "execution_count": 3,
   "id": "617b6bd3",
   "metadata": {},
   "outputs": [
    {
     "data": {
      "text/html": [
       "<div>\n",
       "<style scoped>\n",
       "    .dataframe tbody tr th:only-of-type {\n",
       "        vertical-align: middle;\n",
       "    }\n",
       "\n",
       "    .dataframe tbody tr th {\n",
       "        vertical-align: top;\n",
       "    }\n",
       "\n",
       "    .dataframe thead th {\n",
       "        text-align: right;\n",
       "    }\n",
       "</style>\n",
       "<table border=\"1\" class=\"dataframe\">\n",
       "  <thead>\n",
       "    <tr style=\"text-align: right;\">\n",
       "      <th></th>\n",
       "      <th>Name</th>\n",
       "      <th>employee_id</th>\n",
       "      <th>salary</th>\n",
       "    </tr>\n",
       "  </thead>\n",
       "  <tbody>\n",
       "    <tr>\n",
       "      <th>0</th>\n",
       "      <td>ABC</td>\n",
       "      <td>1</td>\n",
       "      <td>30000</td>\n",
       "    </tr>\n",
       "    <tr>\n",
       "      <th>1</th>\n",
       "      <td>DEF</td>\n",
       "      <td>2</td>\n",
       "      <td>25000</td>\n",
       "    </tr>\n",
       "    <tr>\n",
       "      <th>2</th>\n",
       "      <td>GHI</td>\n",
       "      <td>3</td>\n",
       "      <td>20000</td>\n",
       "    </tr>\n",
       "    <tr>\n",
       "      <th>3</th>\n",
       "      <td>JKL</td>\n",
       "      <td>4</td>\n",
       "      <td>25000</td>\n",
       "    </tr>\n",
       "    <tr>\n",
       "      <th>4</th>\n",
       "      <td>MNO</td>\n",
       "      <td>5</td>\n",
       "      <td>30000</td>\n",
       "    </tr>\n",
       "  </tbody>\n",
       "</table>\n",
       "</div>"
      ],
      "text/plain": [
       "  Name  employee_id  salary\n",
       "0  ABC            1   30000\n",
       "1  DEF            2   25000\n",
       "2  GHI            3   20000\n",
       "3  JKL            4   25000\n",
       "4  MNO            5   30000"
      ]
     },
     "execution_count": 3,
     "metadata": {},
     "output_type": "execute_result"
    }
   ],
   "source": [
    "import pandas as pd\n",
    "import matplotlib.pyplot as plt\n",
    "\n",
    "df1 = pd.read_csv(r'C:\\Users\\Nirmalya Majhi\\Desktop\\Advanced IT Workshop\\mat-data.csv')\n",
    "df1"
   ]
  },
  {
   "cell_type": "code",
   "execution_count": 5,
   "id": "384286ba",
   "metadata": {},
   "outputs": [
    {
     "data": {
      "image/png": "[encoded data removed]",
      "text/plain": [
       "<Figure size 432x288 with 1 Axes>"
      ]
     },
     "metadata": {
      "needs_background": "light"
     },
     "output_type": "display_data"
    }
   ],
   "source": [
    "x = df1['Name']\n",
    "y = df1['salary']\n",
    "\n",
    "plt.bar(x,y)\n",
    "plt.xlabel(\"Employee Name\")\n",
    "plt.ylabel(\"Salary\")\n",
    "plt.title(\"Bar Chart\")\n",
    "plt.show()"
   ]
  },
  {
   "cell_type": "markdown",
   "id": "5b4e195b",
   "metadata": {},
   "source": [
    "### 4. Take the dirtydata.csv as an input and plot the box-plot for the column duration and find out How many outliers are there?"
   ]
  },
  {
   "cell_type": "code",
   "execution_count": 24,
   "id": "13a6c20a",
   "metadata": {},
   "outputs": [
    {
     "data": {
      "image/png": "[encoded data removed]",
      "text/plain": [
       "<Figure size 432x288 with 1 Axes>"
      ]
     },
     "metadata": {
      "needs_background": "light"
     },
     "output_type": "display_data"
    }
   ],
   "source": [
    "import pandas as pd\n",
    "import matplotlib.pyplot as plt\n",
    "\n",
    "df2 = pd.read_csv(r'C:\\Users\\Nirmalya Majhi\\Desktop\\Advanced IT Workshop\\dirtydata.csv')\n",
    "\n",
    "x = df2['Duration']\n",
    "plt.boxplot(x)\n",
    "plt.show()"
   ]
  },
  {
   "cell_type": "markdown",
   "id": "31971dab",
   "metadata": {},
   "source": [
    "from the above boxplot, we can say that there is one outlier"
   ]
  }
 ],
 "metadata": {
  "kernelspec": {
   "display_name": "Python 3 (ipykernel)",
   "language": "python",
   "name": "python3"
  },
  "language_info": {
   "codemirror_mode": {
    "name": "ipython",
    "version": 3
   },
   "file_extension": ".py",
   "mimetype": "text/x-python",
   "name": "python",
   "nbconvert_exporter": "python",
   "pygments_lexer": "ipython3",
   "version": "3.9.5"
  }
 },
 "nbformat": 4,
 "nbformat_minor": 5
}
