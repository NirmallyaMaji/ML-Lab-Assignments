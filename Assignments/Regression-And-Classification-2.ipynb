{
 "cells": [
  {
   "cell_type": "markdown",
   "id": "4b185ef0",
   "metadata": {},
   "source": [
    "### 3. Use sklearn. datasets import load_iris use k-neighbour classifier to classify the three flowers to setosa, vesicolor and Virginica."
   ]
  },
  {
   "cell_type": "code",
   "execution_count": 4,
   "id": "cd9b596a",
   "metadata": {},
   "outputs": [
    {
     "name": "stdout",
     "output_type": "stream",
     "text": [
      "['setosa' 'versicolor' 'virginica']\n",
      "(150, 4)\n",
      "(105, 4)\n",
      "(45, 4)\n",
      "[0.9777777777777777, 1.0, 0.9777777777777777, 0.9777777777777777, 0.9777777777777777, 0.9777777777777777, 0.9777777777777777, 0.9777777777777777, 0.9777777777777777, 0.9777777777777777, 0.9777777777777777, 0.9777777777777777, 0.9555555555555556, 0.9777777777777777]\n",
      "Confusion Matrix:\n",
      " [[15  0  0]\n",
      " [ 0 19  1]\n",
      " [ 0  0 10]]\n",
      "Classification Report:\n",
      "               precision    recall  f1-score   support\n",
      "\n",
      "           0       1.00      1.00      1.00        15\n",
      "           1       1.00      0.95      0.97        20\n",
      "           2       0.91      1.00      0.95        10\n",
      "\n",
      "    accuracy                           0.98        45\n",
      "   macro avg       0.97      0.98      0.98        45\n",
      "weighted avg       0.98      0.98      0.98        45\n",
      "\n",
      "virginicia\n",
      "virginicia\n"
     ]
    },
    {
     "data": {
      "image/png": "[encoded data removed]",
      "text/plain": [
       "<Figure size 432x288 with 1 Axes>"
      ]
     },
     "metadata": {
      "needs_background": "light"
     },
     "output_type": "display_data"
    }
   ],
   "source": [
    "from sklearn.datasets import load_iris\n",
    "from sklearn.model_selection import train_test_split\n",
    "from sklearn.preprocessing import StandardScaler\n",
    "from sklearn.neighbors import KNeighborsClassifier\n",
    "from sklearn import metrics\n",
    "import matplotlib.pyplot as plt\n",
    "iris = load_iris()\n",
    "print(iris.target_names)\n",
    "print(iris.data.shape)\n",
    "x = iris.data[:, :4]\n",
    "y = iris.target\n",
    "X_train,X_test,Y_train,Y_test = train_test_split(x,y,test_size=0.3)\n",
    "scaler = StandardScaler()\n",
    "scaler.fit(X_train)\n",
    "X_train = scaler.transform(X_train)\n",
    "X_test = scaler.transform(X_test)\n",
    "print(X_train.shape)\n",
    "print(X_test.shape)\n",
    "range_k = range(1,15)\n",
    "scores = {}\n",
    "scores_list = []\n",
    "for k in range_k:\n",
    "    classifier = KNeighborsClassifier(n_neighbors=k)\n",
    "    classifier.fit(X_train,Y_train)\n",
    "    Y_pred = classifier.predict(X_test)\n",
    "    scores[k] = metrics.accuracy_score(Y_test,Y_pred)\n",
    "    scores_list.append(metrics.accuracy_score(Y_test,Y_pred))\n",
    "    \n",
    "print(scores_list)\n",
    "result = metrics.confusion_matrix(Y_test,Y_pred)\n",
    "print(\"Confusion Matrix:\\n\",result)\n",
    "result1 = metrics.classification_report(Y_test,Y_pred)\n",
    "print(\"Classification Report:\\n\",result1)\n",
    "plt.plot(range_k,scores_list)\n",
    "plt.xlabel(\"Value of k\")\n",
    "plt.ylabel(\"Accuracy\")\n",
    "classifier = KNeighborsClassifier(n_neighbors=8)\n",
    "classifier.fit(X_train,Y_train)\n",
    "classes = {0:'setosa', 1:'versicolor', 2:'virginicia'}\n",
    "x_new = [[1,1,1,1],[4,3,1.3,0.2]]\n",
    "y_predict = classifier.predict(x_new)\n",
    "print(classes[y_predict[0]])\n",
    "print(classes[y_predict[1]])"
   ]
  },
  {
   "cell_type": "code",
   "execution_count": null,
   "id": "4d1d5cd3",
   "metadata": {},
   "outputs": [],
   "source": []
  }
 ],
 "metadata": {
  "kernelspec": {
   "display_name": "Python 3 (ipykernel)",
   "language": "python",
   "name": "python3"
  },
  "language_info": {
   "codemirror_mode": {
    "name": "ipython",
    "version": 3
   },
   "file_extension": ".py",
   "mimetype": "text/x-python",
   "name": "python",
   "nbconvert_exporter": "python",
   "pygments_lexer": "ipython3",
   "version": "3.9.5"
  }
 },
 "nbformat": 4,
 "nbformat_minor": 5
}
